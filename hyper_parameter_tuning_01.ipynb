{
  "nbformat": 4,
  "nbformat_minor": 0,
  "metadata": {
    "colab": {
      "provenance": []
    },
    "kernelspec": {
      "name": "python3",
      "display_name": "Python 3"
    },
    "language_info": {
      "name": "python"
    }
  },
  "cells": [
    {
      "cell_type": "code",
      "execution_count": 34,
      "metadata": {
        "id": "ce19hxpllw3W"
      },
      "outputs": [],
      "source": [
        "import keras\n",
        "\n",
        "from keras import layers\n",
        "from keras import Sequential\n",
        "\n",
        "from keras.layers import Dense, Input, BatchNormalization\n",
        "\n",
        "\n"
      ]
    },
    {
      "cell_type": "code",
      "source": [
        "def build_model(hp):\n",
        "  model = keras.Sequential()\n",
        "  model.add(Input(shape=(784, )))\n",
        "  model.add(Dense(\n",
        "      units = hp.Int(\"units_1\", min_value = 200, max_value = 400, step = 20),\n",
        "      activation = hp.Choice(\"activation_1\", [\"relu\", \"tanh\"])\n",
        "  ))\n",
        "\n",
        "  model.add(Dense(\n",
        "      units = hp.Int(\"units_2\", min_value = 100, max_value = 200, step = 20),\n",
        "      activation = hp.Choice(\"activation_2\", [\"relu\", \"tanh\"])\n",
        "  ))\n",
        "\n",
        "  model.add(BatchNormalization())\n",
        "\n",
        "  for layers in range(hp.Int(\"num_layers\", min_value = 2, max_value = 4, step = 1)):\n",
        "    model.add(Dense(\n",
        "        units = hp.Int(\"units_3\", min_value = 50, max_value = 100, step = 20),\n",
        "        activation = hp.Choice(\"activation_3\", [\"relu\", \"tanh\"]),\n",
        "        kernel_regularizer = keras.regularizers.L2(\n",
        "          l2 = hp.Float(\"reg\", min_value = 0.001, max_value = 0.1, sampling = \"log\")\n",
        "        )\n",
        "    ))\n",
        "\n",
        "  if hp.Boolean(\"BatchNorm\"):\n",
        "    model.add(BatchNormalisation())\n",
        "\n",
        "  model.add(Dense(10, activation = \"softmax\"))\n",
        "  model.compile(\n",
        "      loss = 'cross_categoricalentropy',\n",
        "      metrics = [\"accuray\"],\n",
        "      optimizer = hp.Choice(\"optimizer\", [\"adam\", \"sgd\"])\n",
        "  )\n",
        "\n",
        "  return model\n",
        "\n",
        "\n",
        "\n"
      ],
      "metadata": {
        "id": "jEl7pTJmm2yT"
      },
      "execution_count": 42,
      "outputs": []
    },
    {
      "cell_type": "code",
      "source": [
        "!pip install keras-tuner"
      ],
      "metadata": {
        "colab": {
          "base_uri": "https://localhost:8080/"
        },
        "collapsed": true,
        "id": "_aA57lk8v31a",
        "outputId": "a0aaa974-4d55-4c6f-c844-711a7bb76430"
      },
      "execution_count": 36,
      "outputs": [
        {
          "output_type": "stream",
          "name": "stdout",
          "text": [
            "Requirement already satisfied: keras-tuner in /usr/local/lib/python3.11/dist-packages (1.4.7)\n",
            "Requirement already satisfied: keras in /usr/local/lib/python3.11/dist-packages (from keras-tuner) (3.8.0)\n",
            "Requirement already satisfied: packaging in /usr/local/lib/python3.11/dist-packages (from keras-tuner) (24.2)\n",
            "Requirement already satisfied: requests in /usr/local/lib/python3.11/dist-packages (from keras-tuner) (2.32.3)\n",
            "Requirement already satisfied: kt-legacy in /usr/local/lib/python3.11/dist-packages (from keras-tuner) (1.0.5)\n",
            "Requirement already satisfied: absl-py in /usr/local/lib/python3.11/dist-packages (from keras->keras-tuner) (1.4.0)\n",
            "Requirement already satisfied: numpy in /usr/local/lib/python3.11/dist-packages (from keras->keras-tuner) (2.0.2)\n",
            "Requirement already satisfied: rich in /usr/local/lib/python3.11/dist-packages (from keras->keras-tuner) (13.9.4)\n",
            "Requirement already satisfied: namex in /usr/local/lib/python3.11/dist-packages (from keras->keras-tuner) (0.0.8)\n",
            "Requirement already satisfied: h5py in /usr/local/lib/python3.11/dist-packages (from keras->keras-tuner) (3.13.0)\n",
            "Requirement already satisfied: optree in /usr/local/lib/python3.11/dist-packages (from keras->keras-tuner) (0.15.0)\n",
            "Requirement already satisfied: ml-dtypes in /usr/local/lib/python3.11/dist-packages (from keras->keras-tuner) (0.4.1)\n",
            "Requirement already satisfied: charset-normalizer<4,>=2 in /usr/local/lib/python3.11/dist-packages (from requests->keras-tuner) (3.4.1)\n",
            "Requirement already satisfied: idna<4,>=2.5 in /usr/local/lib/python3.11/dist-packages (from requests->keras-tuner) (3.10)\n",
            "Requirement already satisfied: urllib3<3,>=1.21.1 in /usr/local/lib/python3.11/dist-packages (from requests->keras-tuner) (2.3.0)\n",
            "Requirement already satisfied: certifi>=2017.4.17 in /usr/local/lib/python3.11/dist-packages (from requests->keras-tuner) (2025.1.31)\n",
            "Requirement already satisfied: typing-extensions>=4.5.0 in /usr/local/lib/python3.11/dist-packages (from optree->keras->keras-tuner) (4.13.2)\n",
            "Requirement already satisfied: markdown-it-py>=2.2.0 in /usr/local/lib/python3.11/dist-packages (from rich->keras->keras-tuner) (3.0.0)\n",
            "Requirement already satisfied: pygments<3.0.0,>=2.13.0 in /usr/local/lib/python3.11/dist-packages (from rich->keras->keras-tuner) (2.18.0)\n",
            "Requirement already satisfied: mdurl~=0.1 in /usr/local/lib/python3.11/dist-packages (from markdown-it-py>=2.2.0->rich->keras->keras-tuner) (0.1.2)\n"
          ]
        }
      ]
    },
    {
      "cell_type": "code",
      "source": [
        "import keras_tuner\n",
        "\n",
        "# set tuner object\n",
        "tuner = keras_tuner.RandomSearch(\n",
        "    hypermodel=build_model,\n",
        "    objective=\"val_accuracy\",\n",
        "    max_trials=3,\n",
        "    executions_per_trial=2,\n",
        "    overwrite = True,\n",
        "    directory = \"my_dir\",\n",
        "    project_name = \"project_hyperparameter\"\n",
        ")\n",
        "\n",
        "\n",
        "tuner.search_space_summary()"
      ],
      "metadata": {
        "colab": {
          "base_uri": "https://localhost:8080/"
        },
        "id": "aBxUgNYjtvjd",
        "outputId": "adc37f82-a3b8-48a2-8e7b-a4234494cc02"
      },
      "execution_count": 44,
      "outputs": [
        {
          "output_type": "stream",
          "name": "stdout",
          "text": [
            "Search space summary\n",
            "Default search space size: 10\n",
            "units_1 (Int)\n",
            "{'default': None, 'conditions': [], 'min_value': 200, 'max_value': 400, 'step': 20, 'sampling': 'linear'}\n",
            "activation_1 (Choice)\n",
            "{'default': 'relu', 'conditions': [], 'values': ['relu', 'tanh'], 'ordered': False}\n",
            "units_2 (Int)\n",
            "{'default': None, 'conditions': [], 'min_value': 100, 'max_value': 200, 'step': 20, 'sampling': 'linear'}\n",
            "activation_2 (Choice)\n",
            "{'default': 'relu', 'conditions': [], 'values': ['relu', 'tanh'], 'ordered': False}\n",
            "num_layers (Int)\n",
            "{'default': None, 'conditions': [], 'min_value': 2, 'max_value': 4, 'step': 1, 'sampling': 'linear'}\n",
            "units_3 (Int)\n",
            "{'default': None, 'conditions': [], 'min_value': 50, 'max_value': 100, 'step': 20, 'sampling': 'linear'}\n",
            "activation_3 (Choice)\n",
            "{'default': 'relu', 'conditions': [], 'values': ['relu', 'tanh'], 'ordered': False}\n",
            "reg (Float)\n",
            "{'default': 0.001, 'conditions': [], 'min_value': 0.001, 'max_value': 0.1, 'step': None, 'sampling': 'log'}\n",
            "BatchNorm (Boolean)\n",
            "{'default': False, 'conditions': []}\n",
            "optimizer (Choice)\n",
            "{'default': 'adam', 'conditions': [], 'values': ['adam', 'sgd'], 'ordered': False}\n"
          ]
        }
      ]
    }
  ]
}